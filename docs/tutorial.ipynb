
{
 "cells": [
  {
   "cell_type": "markdown",
   "metadata": {},
   "source": [
    "# libadic Tutorial - Reid-Li Criterion Validation\n",
    "This notebook demonstrates using libadic for p-adic computations and Reid-Li validation."
   ]
  },
  {
   "cell_type": "code",
   "execution_count": null,
   "metadata": {},
   "outputs": [],
   "source": [
    "import sys\n",
    "sys.path.append('/path/to/libadic/build')\n",
    "import libadic\n",
    "print(f\"libadic version: {libadic.__version__}\")"
   ]
  },
  {
   "cell_type": "markdown",
   "metadata": {},
   "source": [
    "## Basic p-adic Arithmetic"
   ]
  },
  {
   "cell_type": "code",
   "execution_count": null,
   "metadata": {},
   "outputs": [],
   "source": [
    "# Create p-adic integers\n",
    "p = 7\n",
    "precision = 20\n",
    "x = libadic.Zp(p, precision, 15)\n",
    "y = libadic.Zp(p, precision, 8)\n",
    "z = x + y\n",
    "print(f\"{x} + {y} = {z}\")"
   ]
  }
 ],
 "metadata": {
  "kernelspec": {
   "display_name": "Python 3",
   "language": "python",
   "name": "python3"
  }
 },
 "nbformat": 4,
 "nbformat_minor": 4
}
